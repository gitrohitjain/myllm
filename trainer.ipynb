{
 "cells": [
  {
   "cell_type": "code",
   "execution_count": 2,
   "metadata": {},
   "outputs": [
    {
     "name": "stderr",
     "output_type": "stream",
     "text": [
      "/home/kmannar/anaconda3/envs/rnn/lib/python3.12/site-packages/tqdm/auto.py:21: TqdmWarning: IProgress not found. Please update jupyter and ipywidgets. See https://ipywidgets.readthedocs.io/en/stable/user_install.html\n",
      "  from .autonotebook import tqdm as notebook_tqdm\n"
     ]
    }
   ],
   "source": [
    "from transformers import AutoModelForCausalLM, AutoTokenizer\n",
    "from datasets import load_dataset"
   ]
  },
  {
   "cell_type": "code",
   "execution_count": 3,
   "metadata": {},
   "outputs": [
    {
     "name": "stderr",
     "output_type": "stream",
     "text": [
      "/home/kmannar/anaconda3/envs/rnn/lib/python3.12/site-packages/transformers/modeling_utils.py:4193: FutureWarning: `_is_quantized_training_enabled` is going to be deprecated in transformers 4.39.0. Please use `model.hf_quantizer.is_trainable` instead\n",
      "  warnings.warn(\n"
     ]
    }
   ],
   "source": [
    "model_name = 'TheBloke/Mistral-7B-Instruct-v0.2-GPTQ'\n",
    "model = AutoModelForCausalLM.from_pretrained(model_name, device_map='cuda')\n",
    "tokenizer = AutoTokenizer.from_pretrained(model_name)"
   ]
  },
  {
   "cell_type": "code",
   "execution_count": 4,
   "metadata": {},
   "outputs": [
    {
     "name": "stdout",
     "output_type": "stream",
     "text": [
      "\n",
      "Interviewer: What is your name?\n",
      "Interviewee: My name is John.\n",
      "Interviewer: What is your age?\n",
      "Interviewee: I am 25 years old.\n",
      "Interviewer: What is 7 + 7?\n",
      "\n"
     ]
    }
   ],
   "source": [
    "prompt = \"\"\"\n",
    "Interviewer: What is your name?\n",
    "Interviewee: My name is John.\n",
    "Interviewer: What is your age?\n",
    "Interviewee: I am 25 years old.\n",
    "Interviewer: What is 7 + 7?\n",
    "\"\"\"\n",
    "print(prompt)\n",
    "inputs = tokenizer(prompt, return_tensors='pt').input_ids\n",
    "inputs = inputs.to('cuda')"
   ]
  },
  {
   "cell_type": "code",
   "execution_count": 7,
   "metadata": {},
   "outputs": [],
   "source": [
    "def generate(inputs, max_length=100):\n",
    "    outputs = model.generate(inputs, \\\n",
    "                            max_length=max_length, \\\n",
    "                            do_sample=True, \\\n",
    "                            temperature=0.7, \\\n",
    "                            top_k=50, \\\n",
    "                            top_p=0.95)\n",
    "    return tokenizer.decode(outputs[0])"
   ]
  },
  {
   "cell_type": "code",
   "execution_count": 8,
   "metadata": {},
   "outputs": [
    {
     "name": "stderr",
     "output_type": "stream",
     "text": [
      "The attention mask and the pad token id were not set. As a consequence, you may observe unexpected behavior. Please pass your input's `attention_mask` to obtain reliable results.\n",
      "Setting `pad_token_id` to `eos_token_id`:2 for open-end generation.\n"
     ]
    }
   ],
   "source": [
    "response = generate(inputs)"
   ]
  },
  {
   "cell_type": "code",
   "execution_count": 10,
   "metadata": {},
   "outputs": [
    {
     "name": "stdout",
     "output_type": "stream",
     "text": [
      "<s> \n",
      "Interviewer: What is your name?\n",
      "Interviewee: My name is John.\n",
      "Interviewer: What is your age?\n",
      "Interviewee: I am 25 years old.\n",
      "Interviewer: What is 7 + 7?\n",
      "Interviewee: The sum of 7 and 7 is 14.\n",
      "Interviewer: What is your favorite color?\n",
      "Interviewee:\n"
     ]
    }
   ],
   "source": [
    "for line in response.split('\\n'):\n",
    "    print(line)"
   ]
  },
  {
   "cell_type": "code",
   "execution_count": null,
   "metadata": {},
   "outputs": [],
   "source": []
  }
 ],
 "metadata": {
  "kernelspec": {
   "display_name": "rnn",
   "language": "python",
   "name": "python3"
  },
  "language_info": {
   "codemirror_mode": {
    "name": "ipython",
    "version": 3
   },
   "file_extension": ".py",
   "mimetype": "text/x-python",
   "name": "python",
   "nbconvert_exporter": "python",
   "pygments_lexer": "ipython3",
   "version": "3.12.2"
  }
 },
 "nbformat": 4,
 "nbformat_minor": 2
}
